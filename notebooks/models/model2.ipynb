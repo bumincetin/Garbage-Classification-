{
 "cells": [
  {
   "cell_type": "code",
   "execution_count": 11,
   "metadata": {},
   "outputs": [],
   "source": [
    "import os\n",
    "import json\n",
    "import logging\n",
    "import torch\n",
    "import torchvision.models as models\n",
    "import torch.nn as nn\n",
    "import torch.optim as optim\n",
    "from tensorflow.keras.preprocessing.image import ImageDataGenerator\n",
    "import shutil\n",
    "import matplotlib.pyplot as plt\n",
    "from collections import Counter\n",
    "from tensorflow.keras.applications import ResNet50\n",
    "from tensorflow.keras.models import Sequential\n",
    "from tensorflow.keras.layers import Dense, Flatten, Dropout\n",
    "from ultralytics import YOLO\n",
    "import cv2\n",
    "import json"
   ]
  },
  {
   "cell_type": "code",
   "execution_count": 12,
   "metadata": {},
   "outputs": [],
   "source": [
    "# Set up logging\n",
    "logging.basicConfig(level=logging.INFO, format='%(asctime)s - %(levelname)s - %(message)s')\n",
    "\n",
    "# Set paths\n",
    "train_dir = r\"C:\\Users\\bumin\\Downloads\\DLCV project\\TACO\\dataset_split\\train\"\n",
    "val_dir = r\"C:\\Users\\bumin\\Downloads\\DLCV project\\TACO\\dataset_split\\val\"\n",
    "test_dir = r\"C:\\Users\\bumin\\Downloads\\DLCV project\\TACO\\dataset_split\\test\"\n",
    "train_ann_path = r\"C:\\Users\\bumin\\Downloads\\DLCV project\\TACO\\dataset_split\\train_iou_results.json\"\n",
    "val_ann_path = r\"C:\\Users\\bumin\\Downloads\\DLCV project\\TACO\\dataset_split\\val_iou_results.json\"\n",
    "test_ann_path = r\"C:\\Users\\bumin\\Downloads\\DLCV project\\TACO\\dataset_split\\test_iou_results.json\""
   ]
  },
  {
   "cell_type": "code",
   "execution_count": 13,
   "metadata": {},
   "outputs": [],
   "source": [
    "detection_model = YOLO(\"yolov8n.pt\") #from the previous notebook"
   ]
  },
  {
   "cell_type": "code",
   "execution_count": 25,
   "metadata": {},
   "outputs": [],
   "source": [
    "import numpy as np\n",
    "from tensorflow.keras.utils import Sequence\n",
    "\n",
    "from tensorflow.keras.utils import Sequence\n",
    "import os\n",
    "import cv2\n",
    "import numpy as np\n",
    "\n",
    "class ObjectDetectionDataGenerator(Sequence):\n",
    "    def __init__(self, annotations, image_folder, batch_size, input_size, detection_model, category_map):\n",
    "        \"\"\"\n",
    "        Custom data generator for classification using object detection annotations.\n",
    "        Args:\n",
    "            annotations (list): List of annotations with image_id, detected_bbox, and supercategory.\n",
    "            image_folder (str): Path to the folder containing subdirectories for classes.\n",
    "            batch_size (int): Batch size.\n",
    "            input_size (tuple): Input size for the classification model (e.g., (224, 224)).\n",
    "            category_map (dict): Mapping from supercategory to class index.\n",
    "        \"\"\"\n",
    "        self.annotations = annotations\n",
    "        self.image_folder = image_folder\n",
    "        self.batch_size = batch_size\n",
    "        self.input_size = input_size\n",
    "        self.detection_model = detection_model\n",
    "        self.category_map = category_map\n",
    "        self.image_paths = {}  # Maps image_id to the full path\n",
    "        self._build_image_paths()\n",
    "\n",
    "    def _build_image_paths(self):\n",
    "        \"\"\"\n",
    "        Build a dictionary to map image_id to the full file path by scanning subdirectories.\n",
    "        \"\"\"\n",
    "        for root, _, files in os.walk(self.image_folder):\n",
    "            for file in files:\n",
    "                if file.lower().endswith(('.jpg', '.jpeg', '.png')):\n",
    "                    # Extract image_id (file name without extension)\n",
    "                    image_id = os.path.splitext(file)[0]\n",
    "                    full_path = os.path.join(root, file)\n",
    "                    self.image_paths[image_id] = full_path\n",
    "\n",
    "    def __len__(self):\n",
    "        \"\"\"\n",
    "        Number of batches per epoch.\n",
    "        \"\"\"\n",
    "        return len(self.annotations) // self.batch_size\n",
    "\n",
    "    def __getitem__(self, idx):\n",
    "        \"\"\"\n",
    "        Generate one batch of data.\n",
    "        \"\"\"\n",
    "        batch_data = self.annotations[idx * self.batch_size:(idx + 1) * self.batch_size]\n",
    "        images = []\n",
    "        labels = []\n",
    "\n",
    "        for item in batch_data:\n",
    "            image_id = item[\"image_id\"]\n",
    "            if image_id not in self.image_paths:\n",
    "                print(f\"Image ID {image_id} not found in directory. Skipping.\")\n",
    "                continue\n",
    "\n",
    "            # Load image\n",
    "            image_path = self.image_paths[image_id]\n",
    "            image = cv2.imread(image_path)\n",
    "            if image is None:\n",
    "                print(f\"Failed to load image: {image_path}. Skipping.\")\n",
    "                continue\n",
    "\n",
    "            # Crop the detected bounding box\n",
    "            x_min, y_min, x_max, y_max = map(int, item[\"detected_bbox\"])\n",
    "            cropped = image[y_min:y_max, x_min:x_max]\n",
    "\n",
    "            # Resize and normalize the cropped image\n",
    "            cropped_resized = cv2.resize(cropped, self.input_size)\n",
    "            cropped_resized = cropped_resized / 255.0\n",
    "\n",
    "            # Append to batch\n",
    "            images.append(cropped_resized)\n",
    "            labels.append(self.category_map[item[\"supercategory\"]])\n",
    "\n",
    "        # Ensure batch is not empty\n",
    "        if len(images) == 0:\n",
    "            return np.empty((0, *self.input_size, 3)), np.empty((0, len(self.category_map)))\n",
    "\n",
    "        # Convert to numpy arrays\n",
    "        images = np.array(images)\n",
    "        labels = np.array(labels)\n",
    "\n",
    "        # One-hot encode labels\n",
    "        labels_one_hot = np.zeros((len(labels), len(self.category_map)))\n",
    "        labels_one_hot[np.arange(len(labels)), labels] = 1\n",
    "\n",
    "        return images, labels_one_hot\n",
    "\n",
    "\n"
   ]
  },
  {
   "cell_type": "code",
   "execution_count": 26,
   "metadata": {},
   "outputs": [
    {
     "name": "stdout",
     "output_type": "stream",
     "text": [
      "Category Map: {'Aluminium foil': 0, 'Blister pack': 1, 'Bottle': 2, 'Bottle cap': 3, 'Broken glass': 4, 'Can': 5, 'Carton': 6, 'Cigarette': 7, 'Cup': 8, 'Food waste': 9, 'Glass jar': 10, 'Lid': 11, 'Other plastic': 12, 'Paper': 13, 'Paper bag': 14, 'Plastic bag & wrapper': 15, 'Plastic container': 16, 'Plastic utensils': 17, 'Rope & strings': 18, 'Shoe': 19, 'Squeezable tube': 20, 'Straw': 21, 'Styrofoam piece': 22, 'Unlabeled litter': 23}\n"
     ]
    }
   ],
   "source": [
    "\n",
    "with open(train_ann_path, 'r') as f:\n",
    "    train_annotations = json.load(f)\n",
    "\n",
    "\n",
    "with open(val_ann_path, 'r') as f:\n",
    "    val_annotations = json.load(f)\n",
    "\n",
    "# Create a mapping from supercategory to class index\n",
    "unique_supercategories = sorted(set(ann['supercategory'] for ann in train_annotations))\n",
    "category_map = {supercategory: idx for idx, supercategory in enumerate(unique_supercategories)}\n",
    "\n",
    "print(\"Category Map:\", category_map)"
   ]
  },
  {
   "cell_type": "code",
   "execution_count": 27,
   "metadata": {},
   "outputs": [],
   "source": [
    "# Initialize the data generators\n",
    "train_generator = ObjectDetectionDataGenerator(\n",
    "    annotations=train_annotations,\n",
    "    image_folder=train_dir,\n",
    "    detection_model=detection_model,\n",
    "    batch_size=32,\n",
    "    input_size=(224, 224),\n",
    "    category_map=category_map\n",
    ")\n",
    "\n",
    "val_generator = ObjectDetectionDataGenerator(\n",
    "    annotations=val_annotations,\n",
    "    image_folder=train_dir,\n",
    "    detection_model=detection_model,\n",
    "    batch_size=32,\n",
    "    input_size=(224, 224),\n",
    "    category_map=category_map\n",
    ")"
   ]
  },
  {
   "cell_type": "code",
   "execution_count": 28,
   "metadata": {},
   "outputs": [
    {
     "name": "stdout",
     "output_type": "stream",
     "text": [
      "Image ID 1136 not found in directory. Skipping.\n",
      "Image ID 260 not found in directory. Skipping.\n",
      "Image ID 847 not found in directory. Skipping.\n",
      "Image ID 920 not found in directory. Skipping.\n",
      "Image ID 97 not found in directory. Skipping.\n",
      "Image ID 976 not found in directory. Skipping.\n",
      "Image ID 99 not found in directory. Skipping.\n",
      "Image ID 337 not found in directory. Skipping.\n",
      "Image ID 367 not found in directory. Skipping.\n",
      "Image ID 873 not found in directory. Skipping.\n",
      "Image ID 102 not found in directory. Skipping.\n",
      "Image ID 103 not found in directory. Skipping.\n",
      "Image ID 1044 not found in directory. Skipping.\n",
      "Image ID 1045 not found in directory. Skipping.\n",
      "Image ID 1063 not found in directory. Skipping.\n",
      "Image ID 1103 not found in directory. Skipping.\n",
      "Image ID 1106 not found in directory. Skipping.\n",
      "Image ID 1110 not found in directory. Skipping.\n",
      "Image ID 1113 not found in directory. Skipping.\n",
      "Image ID 1123 not found in directory. Skipping.\n",
      "Image ID 1127 not found in directory. Skipping.\n",
      "Image ID 1131 not found in directory. Skipping.\n",
      "Image ID 1133 not found in directory. Skipping.\n",
      "Image ID 1141 not found in directory. Skipping.\n",
      "Image ID 1145 not found in directory. Skipping.\n",
      "Image ID 1155 not found in directory. Skipping.\n",
      "Image ID 1160 not found in directory. Skipping.\n",
      "Image ID 1164 not found in directory. Skipping.\n",
      "Image ID 1193 not found in directory. Skipping.\n",
      "Image ID 1209 not found in directory. Skipping.\n",
      "Image ID 1213 not found in directory. Skipping.\n",
      "Image ID 122 not found in directory. Skipping.\n",
      "Images batch shape: (0, 224, 224, 3)\n",
      "Labels batch shape: (0, 24)\n"
     ]
    }
   ],
   "source": [
    "images, labels = train_generator[0]\n",
    "print(f\"Images batch shape: {images.shape}\")\n",
    "print(f\"Labels batch shape: {labels.shape}\")\n"
   ]
  },
  {
   "cell_type": "code",
   "execution_count": 29,
   "metadata": {},
   "outputs": [
    {
     "data": {
      "text/html": [
       "<pre style=\"white-space:pre;overflow-x:auto;line-height:normal;font-family:Menlo,'DejaVu Sans Mono',consolas,'Courier New',monospace\"><span style=\"font-weight: bold\">Model: \"sequential_1\"</span>\n",
       "</pre>\n"
      ],
      "text/plain": [
       "\u001b[1mModel: \"sequential_1\"\u001b[0m\n"
      ]
     },
     "metadata": {},
     "output_type": "display_data"
    },
    {
     "data": {
      "text/html": [
       "<pre style=\"white-space:pre;overflow-x:auto;line-height:normal;font-family:Menlo,'DejaVu Sans Mono',consolas,'Courier New',monospace\">┏━━━━━━━━━━━━━━━━━━━━━━━━━━━━━━━━━┳━━━━━━━━━━━━━━━━━━━━━━━━┳━━━━━━━━━━━━━━━┓\n",
       "┃<span style=\"font-weight: bold\"> Layer (type)                    </span>┃<span style=\"font-weight: bold\"> Output Shape           </span>┃<span style=\"font-weight: bold\">       Param # </span>┃\n",
       "┡━━━━━━━━━━━━━━━━━━━━━━━━━━━━━━━━━╇━━━━━━━━━━━━━━━━━━━━━━━━╇━━━━━━━━━━━━━━━┩\n",
       "│ resnet50 (<span style=\"color: #0087ff; text-decoration-color: #0087ff\">Functional</span>)           │ (<span style=\"color: #00d7ff; text-decoration-color: #00d7ff\">None</span>, <span style=\"color: #00af00; text-decoration-color: #00af00\">7</span>, <span style=\"color: #00af00; text-decoration-color: #00af00\">7</span>, <span style=\"color: #00af00; text-decoration-color: #00af00\">2048</span>)     │    <span style=\"color: #00af00; text-decoration-color: #00af00\">23,587,712</span> │\n",
       "├─────────────────────────────────┼────────────────────────┼───────────────┤\n",
       "│ flatten_1 (<span style=\"color: #0087ff; text-decoration-color: #0087ff\">Flatten</span>)             │ (<span style=\"color: #00d7ff; text-decoration-color: #00d7ff\">None</span>, <span style=\"color: #00af00; text-decoration-color: #00af00\">100352</span>)         │             <span style=\"color: #00af00; text-decoration-color: #00af00\">0</span> │\n",
       "├─────────────────────────────────┼────────────────────────┼───────────────┤\n",
       "│ dense_3 (<span style=\"color: #0087ff; text-decoration-color: #0087ff\">Dense</span>)                 │ (<span style=\"color: #00d7ff; text-decoration-color: #00d7ff\">None</span>, <span style=\"color: #00af00; text-decoration-color: #00af00\">128</span>)            │    <span style=\"color: #00af00; text-decoration-color: #00af00\">12,845,184</span> │\n",
       "├─────────────────────────────────┼────────────────────────┼───────────────┤\n",
       "│ dropout_1 (<span style=\"color: #0087ff; text-decoration-color: #0087ff\">Dropout</span>)             │ (<span style=\"color: #00d7ff; text-decoration-color: #00d7ff\">None</span>, <span style=\"color: #00af00; text-decoration-color: #00af00\">128</span>)            │             <span style=\"color: #00af00; text-decoration-color: #00af00\">0</span> │\n",
       "├─────────────────────────────────┼────────────────────────┼───────────────┤\n",
       "│ dense_4 (<span style=\"color: #0087ff; text-decoration-color: #0087ff\">Dense</span>)                 │ (<span style=\"color: #00d7ff; text-decoration-color: #00d7ff\">None</span>, <span style=\"color: #00af00; text-decoration-color: #00af00\">24</span>)             │         <span style=\"color: #00af00; text-decoration-color: #00af00\">3,096</span> │\n",
       "└─────────────────────────────────┴────────────────────────┴───────────────┘\n",
       "</pre>\n"
      ],
      "text/plain": [
       "┏━━━━━━━━━━━━━━━━━━━━━━━━━━━━━━━━━┳━━━━━━━━━━━━━━━━━━━━━━━━┳━━━━━━━━━━━━━━━┓\n",
       "┃\u001b[1m \u001b[0m\u001b[1mLayer (type)                   \u001b[0m\u001b[1m \u001b[0m┃\u001b[1m \u001b[0m\u001b[1mOutput Shape          \u001b[0m\u001b[1m \u001b[0m┃\u001b[1m \u001b[0m\u001b[1m      Param #\u001b[0m\u001b[1m \u001b[0m┃\n",
       "┡━━━━━━━━━━━━━━━━━━━━━━━━━━━━━━━━━╇━━━━━━━━━━━━━━━━━━━━━━━━╇━━━━━━━━━━━━━━━┩\n",
       "│ resnet50 (\u001b[38;5;33mFunctional\u001b[0m)           │ (\u001b[38;5;45mNone\u001b[0m, \u001b[38;5;34m7\u001b[0m, \u001b[38;5;34m7\u001b[0m, \u001b[38;5;34m2048\u001b[0m)     │    \u001b[38;5;34m23,587,712\u001b[0m │\n",
       "├─────────────────────────────────┼────────────────────────┼───────────────┤\n",
       "│ flatten_1 (\u001b[38;5;33mFlatten\u001b[0m)             │ (\u001b[38;5;45mNone\u001b[0m, \u001b[38;5;34m100352\u001b[0m)         │             \u001b[38;5;34m0\u001b[0m │\n",
       "├─────────────────────────────────┼────────────────────────┼───────────────┤\n",
       "│ dense_3 (\u001b[38;5;33mDense\u001b[0m)                 │ (\u001b[38;5;45mNone\u001b[0m, \u001b[38;5;34m128\u001b[0m)            │    \u001b[38;5;34m12,845,184\u001b[0m │\n",
       "├─────────────────────────────────┼────────────────────────┼───────────────┤\n",
       "│ dropout_1 (\u001b[38;5;33mDropout\u001b[0m)             │ (\u001b[38;5;45mNone\u001b[0m, \u001b[38;5;34m128\u001b[0m)            │             \u001b[38;5;34m0\u001b[0m │\n",
       "├─────────────────────────────────┼────────────────────────┼───────────────┤\n",
       "│ dense_4 (\u001b[38;5;33mDense\u001b[0m)                 │ (\u001b[38;5;45mNone\u001b[0m, \u001b[38;5;34m24\u001b[0m)             │         \u001b[38;5;34m3,096\u001b[0m │\n",
       "└─────────────────────────────────┴────────────────────────┴───────────────┘\n"
      ]
     },
     "metadata": {},
     "output_type": "display_data"
    },
    {
     "data": {
      "text/html": [
       "<pre style=\"white-space:pre;overflow-x:auto;line-height:normal;font-family:Menlo,'DejaVu Sans Mono',consolas,'Courier New',monospace\"><span style=\"font-weight: bold\"> Total params: </span><span style=\"color: #00af00; text-decoration-color: #00af00\">36,435,992</span> (138.99 MB)\n",
       "</pre>\n"
      ],
      "text/plain": [
       "\u001b[1m Total params: \u001b[0m\u001b[38;5;34m36,435,992\u001b[0m (138.99 MB)\n"
      ]
     },
     "metadata": {},
     "output_type": "display_data"
    },
    {
     "data": {
      "text/html": [
       "<pre style=\"white-space:pre;overflow-x:auto;line-height:normal;font-family:Menlo,'DejaVu Sans Mono',consolas,'Courier New',monospace\"><span style=\"font-weight: bold\"> Trainable params: </span><span style=\"color: #00af00; text-decoration-color: #00af00\">12,848,280</span> (49.01 MB)\n",
       "</pre>\n"
      ],
      "text/plain": [
       "\u001b[1m Trainable params: \u001b[0m\u001b[38;5;34m12,848,280\u001b[0m (49.01 MB)\n"
      ]
     },
     "metadata": {},
     "output_type": "display_data"
    },
    {
     "data": {
      "text/html": [
       "<pre style=\"white-space:pre;overflow-x:auto;line-height:normal;font-family:Menlo,'DejaVu Sans Mono',consolas,'Courier New',monospace\"><span style=\"font-weight: bold\"> Non-trainable params: </span><span style=\"color: #00af00; text-decoration-color: #00af00\">23,587,712</span> (89.98 MB)\n",
       "</pre>\n"
      ],
      "text/plain": [
       "\u001b[1m Non-trainable params: \u001b[0m\u001b[38;5;34m23,587,712\u001b[0m (89.98 MB)\n"
      ]
     },
     "metadata": {},
     "output_type": "display_data"
    }
   ],
   "source": [
    "# Number of classes (from category_map)\n",
    "num_classes = len(category_map)\n",
    "\n",
    "# Load the ResNet50 base model\n",
    "base_model = ResNet50(weights=\"imagenet\", include_top=False, input_shape=(224, 224, 3))\n",
    "\n",
    "# Freeze the base model's layers\n",
    "base_model.trainable = False\n",
    "\n",
    "# Add custom layers for classification\n",
    "model = Sequential([\n",
    "    base_model,\n",
    "    Flatten(),\n",
    "    Dense(128, activation=\"relu\"),\n",
    "    Dropout(0.5),\n",
    "    Dense(num_classes, activation=\"softmax\")  # Output layer with num_classes\n",
    "])\n",
    "\n",
    "# Compile the model\n",
    "model.compile(optimizer=\"adam\", loss=\"categorical_crossentropy\", metrics=[\"accuracy\"])\n",
    "\n",
    "model.summary()"
   ]
  },
  {
   "cell_type": "code",
   "execution_count": 30,
   "metadata": {},
   "outputs": [
    {
     "name": "stdout",
     "output_type": "stream",
     "text": [
      "Image ID 1136 not found in directory. Skipping.\n",
      "Image ID 260 not found in directory. Skipping.\n",
      "Image ID 847 not found in directory. Skipping.\n",
      "Image ID 920 not found in directory. Skipping.\n",
      "Image ID 97 not found in directory. Skipping.\n",
      "Image ID 976 not found in directory. Skipping.\n",
      "Image ID 99 not found in directory. Skipping.\n",
      "Image ID 337 not found in directory. Skipping.\n",
      "Image ID 367 not found in directory. Skipping.\n",
      "Image ID 873 not found in directory. Skipping.\n",
      "Image ID 102 not found in directory. Skipping.\n",
      "Image ID 103 not found in directory. Skipping.\n",
      "Image ID 1044 not found in directory. Skipping.\n",
      "Image ID 1045 not found in directory. Skipping.\n",
      "Image ID 1063 not found in directory. Skipping.\n",
      "Image ID 1103 not found in directory. Skipping.\n",
      "Image ID 1106 not found in directory. Skipping.\n",
      "Image ID 1110 not found in directory. Skipping.\n",
      "Image ID 1113 not found in directory. Skipping.\n",
      "Image ID 1123 not found in directory. Skipping.\n",
      "Image ID 1127 not found in directory. Skipping.\n",
      "Image ID 1131 not found in directory. Skipping.\n",
      "Image ID 1133 not found in directory. Skipping.\n",
      "Image ID 1141 not found in directory. Skipping.\n",
      "Image ID 1145 not found in directory. Skipping.\n",
      "Image ID 1155 not found in directory. Skipping.\n",
      "Image ID 1160 not found in directory. Skipping.\n",
      "Image ID 1164 not found in directory. Skipping.\n",
      "Image ID 1193 not found in directory. Skipping.\n",
      "Image ID 1209 not found in directory. Skipping.\n",
      "Image ID 1213 not found in directory. Skipping.\n",
      "Image ID 122 not found in directory. Skipping.\n",
      "Image ID 1222 not found in directory. Skipping.\n",
      "Image ID 1224 not found in directory. Skipping.\n",
      "Image ID 1238 not found in directory. Skipping.\n",
      "Image ID 1252 not found in directory. Skipping.\n",
      "Image ID 1307 not found in directory. Skipping.\n",
      "Image ID 1314 not found in directory. Skipping.\n",
      "Image ID 1337 not found in directory. Skipping.\n",
      "Image ID 1338 not found in directory. Skipping.\n",
      "Image ID 1353 not found in directory. Skipping.\n",
      "Image ID 1369 not found in directory. Skipping.\n",
      "Image ID 14 not found in directory. Skipping.\n",
      "Image ID 1404 not found in directory. Skipping.\n",
      "Image ID 1451 not found in directory. Skipping.\n",
      "Image ID 15 not found in directory. Skipping.\n",
      "Image ID 2 not found in directory. Skipping.\n",
      "Image ID 23 not found in directory. Skipping.\n",
      "Image ID 235 not found in directory. Skipping.\n",
      "Image ID 296 not found in directory. Skipping.\n",
      "Image ID 299 not found in directory. Skipping.\n",
      "Image ID 322 not found in directory. Skipping.\n",
      "Image ID 325 not found in directory. Skipping.\n",
      "Image ID 339 not found in directory. Skipping.\n",
      "Image ID 346 not found in directory. Skipping.\n",
      "Image ID 358 not found in directory. Skipping.\n",
      "Image ID 395 not found in directory. Skipping.\n",
      "Image ID 414 not found in directory. Skipping.\n",
      "Image ID 429 not found in directory. Skipping.\n",
      "Image ID 43 not found in directory. Skipping.\n",
      "Image ID 440 not found in directory. Skipping.\n",
      "Image ID 444 not found in directory. Skipping.\n",
      "Image ID 487 not found in directory. Skipping.\n",
      "Image ID 496 not found in directory. Skipping.\n",
      "Epoch 1/15\n"
     ]
    },
    {
     "name": "stderr",
     "output_type": "stream",
     "text": [
      "c:\\Users\\bumin\\anaconda3\\envs\\c20599\\lib\\site-packages\\keras\\src\\trainers\\data_adapters\\py_dataset_adapter.py:121: UserWarning: Your `PyDataset` class should call `super().__init__(**kwargs)` in its constructor. `**kwargs` can include `workers`, `use_multiprocessing`, `max_queue_size`. Do not pass these arguments to `fit()`, as they will be ignored.\n",
      "  self._warn_if_super_not_called()\n"
     ]
    },
    {
     "name": "stdout",
     "output_type": "stream",
     "text": [
      "Image ID 888 not found in directory. Skipping.\n",
      "Image ID 90 not found in directory. Skipping.\n",
      "Image ID 103 not found in directory. Skipping.\n",
      "Image ID 1193 not found in directory. Skipping.\n",
      "Image ID 1202 not found in directory. Skipping.\n",
      "Image ID 1208 not found in directory. Skipping.\n",
      "Image ID 1213 not found in directory. Skipping.\n",
      "Image ID 1216 not found in directory. Skipping.\n",
      "Image ID 1260 not found in directory. Skipping.\n",
      "Image ID 1278 not found in directory. Skipping.\n",
      "Image ID 1288 not found in directory. Skipping.\n",
      "Image ID 1294 not found in directory. Skipping.\n",
      "Image ID 1353 not found in directory. Skipping.\n",
      "Image ID 1448 not found in directory. Skipping.\n",
      "Image ID 1481 not found in directory. Skipping.\n",
      "Image ID 158 not found in directory. Skipping.\n",
      "Image ID 179 not found in directory. Skipping.\n",
      "Image ID 261 not found in directory. Skipping.\n",
      "Image ID 296 not found in directory. Skipping.\n",
      "Image ID 322 not found in directory. Skipping.\n",
      "Image ID 326 not found in directory. Skipping.\n",
      "Image ID 386 not found in directory. Skipping.\n",
      "Image ID 423 not found in directory. Skipping.\n",
      "Image ID 426 not found in directory. Skipping.\n",
      "Image ID 498 not found in directory. Skipping.\n",
      "Image ID 510 not found in directory. Skipping.\n",
      "Image ID 555 not found in directory. Skipping.\n",
      "Image ID 580 not found in directory. Skipping.\n",
      "Image ID 644 not found in directory. Skipping.\n",
      "Image ID 859 not found in directory. Skipping.\n",
      "Image ID 887 not found in directory. Skipping.\n",
      "Image ID 888 not found in directory. Skipping.\n",
      "Image ID 912 not found in directory. Skipping.\n",
      "Image ID 1106 not found in directory. Skipping.\n",
      "Image ID 316 not found in directory. Skipping.\n",
      "Image ID 653 not found in directory. Skipping.\n",
      "Image ID 73 not found in directory. Skipping.\n",
      "Image ID 754 not found in directory. Skipping.\n",
      "Image ID 102 not found in directory. Skipping.\n",
      "Image ID 69 not found in directory. Skipping.\n",
      "Image ID 962 not found in directory. Skipping.\n",
      "Image ID 1064 not found in directory. Skipping.\n",
      "Image ID 1193 not found in directory. Skipping.\n",
      "Image ID 1209 not found in directory. Skipping.\n",
      "Image ID 1213 not found in directory. Skipping.\n",
      "Image ID 1448 not found in directory. Skipping.\n",
      "Image ID 1453 not found in directory. Skipping.\n",
      "Image ID 392 not found in directory. Skipping.\n",
      "Image ID 408 not found in directory. Skipping.\n",
      "Image ID 414 not found in directory. Skipping.\n",
      "Image ID 416 not found in directory. Skipping.\n",
      "Image ID 423 not found in directory. Skipping.\n",
      "Image ID 426 not found in directory. Skipping.\n",
      "Image ID 442 not found in directory. Skipping.\n",
      "Image ID 448 not found in directory. Skipping.\n",
      "Image ID 693 not found in directory. Skipping.\n",
      "Image ID 703 not found in directory. Skipping.\n",
      "Image ID 731 not found in directory. Skipping.\n",
      "Image ID 80 not found in directory. Skipping.\n",
      "Image ID 845 not found in directory. Skipping.\n",
      "Image ID 859 not found in directory. Skipping.\n",
      "Image ID 1278 not found in directory. Skipping.\n",
      "Image ID 203 not found in directory. Skipping.\n",
      "Image ID 206 not found in directory. Skipping.\n"
     ]
    },
    {
     "ename": "InvalidArgumentError",
     "evalue": "Graph execution error:\n\nDetected at node sequential_1_1/resnet50_1/conv1_bn_1/batchnorm/mul_1 defined at (most recent call last):\n  File \"c:\\Users\\bumin\\anaconda3\\envs\\c20599\\lib\\runpy.py\", line 196, in _run_module_as_main\n\n  File \"c:\\Users\\bumin\\anaconda3\\envs\\c20599\\lib\\runpy.py\", line 86, in _run_code\n\n  File \"c:\\Users\\bumin\\anaconda3\\envs\\c20599\\lib\\site-packages\\ipykernel_launcher.py\", line 17, in <module>\n\n  File \"c:\\Users\\bumin\\anaconda3\\envs\\c20599\\lib\\site-packages\\traitlets\\config\\application.py\", line 992, in launch_instance\n\n  File \"c:\\Users\\bumin\\anaconda3\\envs\\c20599\\lib\\site-packages\\ipykernel\\kernelapp.py\", line 701, in start\n\n  File \"c:\\Users\\bumin\\anaconda3\\envs\\c20599\\lib\\site-packages\\tornado\\platform\\asyncio.py\", line 195, in start\n\n  File \"c:\\Users\\bumin\\anaconda3\\envs\\c20599\\lib\\asyncio\\windows_events.py\", line 321, in run_forever\n\n  File \"c:\\Users\\bumin\\anaconda3\\envs\\c20599\\lib\\asyncio\\base_events.py\", line 603, in run_forever\n\n  File \"c:\\Users\\bumin\\anaconda3\\envs\\c20599\\lib\\asyncio\\base_events.py\", line 1909, in _run_once\n\n  File \"c:\\Users\\bumin\\anaconda3\\envs\\c20599\\lib\\asyncio\\events.py\", line 80, in _run\n\n  File \"c:\\Users\\bumin\\anaconda3\\envs\\c20599\\lib\\site-packages\\ipykernel\\kernelbase.py\", line 534, in dispatch_queue\n\n  File \"c:\\Users\\bumin\\anaconda3\\envs\\c20599\\lib\\site-packages\\ipykernel\\kernelbase.py\", line 523, in process_one\n\n  File \"c:\\Users\\bumin\\anaconda3\\envs\\c20599\\lib\\site-packages\\ipykernel\\kernelbase.py\", line 429, in dispatch_shell\n\n  File \"c:\\Users\\bumin\\anaconda3\\envs\\c20599\\lib\\site-packages\\ipykernel\\kernelbase.py\", line 767, in execute_request\n\n  File \"c:\\Users\\bumin\\anaconda3\\envs\\c20599\\lib\\site-packages\\ipykernel\\ipkernel.py\", line 429, in do_execute\n\n  File \"c:\\Users\\bumin\\anaconda3\\envs\\c20599\\lib\\site-packages\\ipykernel\\zmqshell.py\", line 549, in run_cell\n\n  File \"c:\\Users\\bumin\\anaconda3\\envs\\c20599\\lib\\site-packages\\IPython\\core\\interactiveshell.py\", line 3051, in run_cell\n\n  File \"c:\\Users\\bumin\\anaconda3\\envs\\c20599\\lib\\site-packages\\IPython\\core\\interactiveshell.py\", line 3106, in _run_cell\n\n  File \"c:\\Users\\bumin\\anaconda3\\envs\\c20599\\lib\\site-packages\\IPython\\core\\async_helpers.py\", line 129, in _pseudo_sync_runner\n\n  File \"c:\\Users\\bumin\\anaconda3\\envs\\c20599\\lib\\site-packages\\IPython\\core\\interactiveshell.py\", line 3311, in run_cell_async\n\n  File \"c:\\Users\\bumin\\anaconda3\\envs\\c20599\\lib\\site-packages\\IPython\\core\\interactiveshell.py\", line 3493, in run_ast_nodes\n\n  File \"c:\\Users\\bumin\\anaconda3\\envs\\c20599\\lib\\site-packages\\IPython\\core\\interactiveshell.py\", line 3553, in run_code\n\n  File \"C:\\Users\\bumin\\AppData\\Local\\Temp\\ipykernel_19228\\1670856602.py\", line 7, in <module>\n\n  File \"c:\\Users\\bumin\\anaconda3\\envs\\c20599\\lib\\site-packages\\keras\\src\\utils\\traceback_utils.py\", line 117, in error_handler\n\n  File \"c:\\Users\\bumin\\anaconda3\\envs\\c20599\\lib\\site-packages\\keras\\src\\backend\\tensorflow\\trainer.py\", line 368, in fit\n\n  File \"c:\\Users\\bumin\\anaconda3\\envs\\c20599\\lib\\site-packages\\keras\\src\\backend\\tensorflow\\trainer.py\", line 216, in function\n\n  File \"c:\\Users\\bumin\\anaconda3\\envs\\c20599\\lib\\site-packages\\keras\\src\\backend\\tensorflow\\trainer.py\", line 129, in multi_step_on_iterator\n\n  File \"c:\\Users\\bumin\\anaconda3\\envs\\c20599\\lib\\site-packages\\keras\\src\\backend\\tensorflow\\trainer.py\", line 110, in one_step_on_data\n\n  File \"c:\\Users\\bumin\\anaconda3\\envs\\c20599\\lib\\site-packages\\keras\\src\\backend\\tensorflow\\trainer.py\", line 56, in train_step\n\n  File \"c:\\Users\\bumin\\anaconda3\\envs\\c20599\\lib\\site-packages\\keras\\src\\utils\\traceback_utils.py\", line 117, in error_handler\n\n  File \"c:\\Users\\bumin\\anaconda3\\envs\\c20599\\lib\\site-packages\\keras\\src\\layers\\layer.py\", line 899, in __call__\n\n  File \"c:\\Users\\bumin\\anaconda3\\envs\\c20599\\lib\\site-packages\\keras\\src\\utils\\traceback_utils.py\", line 117, in error_handler\n\n  File \"c:\\Users\\bumin\\anaconda3\\envs\\c20599\\lib\\site-packages\\keras\\src\\ops\\operation.py\", line 46, in __call__\n\n  File \"c:\\Users\\bumin\\anaconda3\\envs\\c20599\\lib\\site-packages\\keras\\src\\utils\\traceback_utils.py\", line 156, in error_handler\n\n  File \"c:\\Users\\bumin\\anaconda3\\envs\\c20599\\lib\\site-packages\\keras\\src\\models\\sequential.py\", line 213, in call\n\n  File \"c:\\Users\\bumin\\anaconda3\\envs\\c20599\\lib\\site-packages\\keras\\src\\models\\functional.py\", line 182, in call\n\n  File \"c:\\Users\\bumin\\anaconda3\\envs\\c20599\\lib\\site-packages\\keras\\src\\ops\\function.py\", line 171, in _run_through_graph\n\n  File \"c:\\Users\\bumin\\anaconda3\\envs\\c20599\\lib\\site-packages\\keras\\src\\models\\functional.py\", line 632, in call\n\n  File \"c:\\Users\\bumin\\anaconda3\\envs\\c20599\\lib\\site-packages\\keras\\src\\utils\\traceback_utils.py\", line 117, in error_handler\n\n  File \"c:\\Users\\bumin\\anaconda3\\envs\\c20599\\lib\\site-packages\\keras\\src\\layers\\layer.py\", line 899, in __call__\n\n  File \"c:\\Users\\bumin\\anaconda3\\envs\\c20599\\lib\\site-packages\\keras\\src\\utils\\traceback_utils.py\", line 117, in error_handler\n\n  File \"c:\\Users\\bumin\\anaconda3\\envs\\c20599\\lib\\site-packages\\keras\\src\\ops\\operation.py\", line 46, in __call__\n\n  File \"c:\\Users\\bumin\\anaconda3\\envs\\c20599\\lib\\site-packages\\keras\\src\\utils\\traceback_utils.py\", line 156, in error_handler\n\n  File \"c:\\Users\\bumin\\anaconda3\\envs\\c20599\\lib\\site-packages\\keras\\src\\models\\functional.py\", line 182, in call\n\n  File \"c:\\Users\\bumin\\anaconda3\\envs\\c20599\\lib\\site-packages\\keras\\src\\ops\\function.py\", line 171, in _run_through_graph\n\n  File \"c:\\Users\\bumin\\anaconda3\\envs\\c20599\\lib\\site-packages\\keras\\src\\models\\functional.py\", line 632, in call\n\n  File \"c:\\Users\\bumin\\anaconda3\\envs\\c20599\\lib\\site-packages\\keras\\src\\utils\\traceback_utils.py\", line 117, in error_handler\n\n  File \"c:\\Users\\bumin\\anaconda3\\envs\\c20599\\lib\\site-packages\\keras\\src\\layers\\layer.py\", line 899, in __call__\n\n  File \"c:\\Users\\bumin\\anaconda3\\envs\\c20599\\lib\\site-packages\\keras\\src\\utils\\traceback_utils.py\", line 117, in error_handler\n\n  File \"c:\\Users\\bumin\\anaconda3\\envs\\c20599\\lib\\site-packages\\keras\\src\\ops\\operation.py\", line 46, in __call__\n\n  File \"c:\\Users\\bumin\\anaconda3\\envs\\c20599\\lib\\site-packages\\keras\\src\\utils\\traceback_utils.py\", line 156, in error_handler\n\n  File \"c:\\Users\\bumin\\anaconda3\\envs\\c20599\\lib\\site-packages\\keras\\src\\layers\\normalization\\batch_normalization.py\", line 278, in call\n\n  File \"c:\\Users\\bumin\\anaconda3\\envs\\c20599\\lib\\site-packages\\keras\\src\\ops\\nn.py\", line 2082, in batch_normalization\n\n  File \"c:\\Users\\bumin\\anaconda3\\envs\\c20599\\lib\\site-packages\\keras\\src\\backend\\tensorflow\\nn.py\", line 840, in batch_normalization\n\nIncompatible shapes: [1,1,1,64] vs. [0,224,224,3]\n\t [[{{node sequential_1_1/resnet50_1/conv1_bn_1/batchnorm/mul_1}}]] [Op:__inference_multi_step_on_iterator_14300]",
     "output_type": "error",
     "traceback": [
      "\u001b[1;31m---------------------------------------------------------------------------\u001b[0m",
      "\u001b[1;31mInvalidArgumentError\u001b[0m                      Traceback (most recent call last)",
      "Cell \u001b[1;32mIn[30], line 7\u001b[0m\n\u001b[0;32m      4\u001b[0m model\u001b[38;5;241m.\u001b[39mcompile(optimizer\u001b[38;5;241m=\u001b[39m\u001b[38;5;124m\"\u001b[39m\u001b[38;5;124madam\u001b[39m\u001b[38;5;124m\"\u001b[39m, loss\u001b[38;5;241m=\u001b[39m\u001b[38;5;124m\"\u001b[39m\u001b[38;5;124mcategorical_crossentropy\u001b[39m\u001b[38;5;124m\"\u001b[39m, metrics\u001b[38;5;241m=\u001b[39m[\u001b[38;5;124m\"\u001b[39m\u001b[38;5;124maccuracy\u001b[39m\u001b[38;5;124m\"\u001b[39m])\n\u001b[0;32m      6\u001b[0m \u001b[38;5;66;03m# Train the model\u001b[39;00m\n\u001b[1;32m----> 7\u001b[0m history \u001b[38;5;241m=\u001b[39m \u001b[43mmodel\u001b[49m\u001b[38;5;241;43m.\u001b[39;49m\u001b[43mfit\u001b[49m\u001b[43m(\u001b[49m\n\u001b[0;32m      8\u001b[0m \u001b[43m    \u001b[49m\u001b[43mtrain_generator\u001b[49m\u001b[43m,\u001b[49m\n\u001b[0;32m      9\u001b[0m \u001b[43m    \u001b[49m\u001b[43mvalidation_data\u001b[49m\u001b[38;5;241;43m=\u001b[39;49m\u001b[43mval_generator\u001b[49m\u001b[43m,\u001b[49m\n\u001b[0;32m     10\u001b[0m \u001b[43m    \u001b[49m\u001b[43mepochs\u001b[49m\u001b[38;5;241;43m=\u001b[39;49m\u001b[38;5;241;43m15\u001b[39;49m\n\u001b[0;32m     11\u001b[0m \u001b[43m)\u001b[49m\n",
      "File \u001b[1;32mc:\\Users\\bumin\\anaconda3\\envs\\c20599\\lib\\site-packages\\keras\\src\\utils\\traceback_utils.py:122\u001b[0m, in \u001b[0;36mfilter_traceback.<locals>.error_handler\u001b[1;34m(*args, **kwargs)\u001b[0m\n\u001b[0;32m    119\u001b[0m     filtered_tb \u001b[38;5;241m=\u001b[39m _process_traceback_frames(e\u001b[38;5;241m.\u001b[39m__traceback__)\n\u001b[0;32m    120\u001b[0m     \u001b[38;5;66;03m# To get the full stack trace, call:\u001b[39;00m\n\u001b[0;32m    121\u001b[0m     \u001b[38;5;66;03m# `keras.config.disable_traceback_filtering()`\u001b[39;00m\n\u001b[1;32m--> 122\u001b[0m     \u001b[38;5;28;01mraise\u001b[39;00m e\u001b[38;5;241m.\u001b[39mwith_traceback(filtered_tb) \u001b[38;5;28;01mfrom\u001b[39;00m \u001b[38;5;28;01mNone\u001b[39;00m\n\u001b[0;32m    123\u001b[0m \u001b[38;5;28;01mfinally\u001b[39;00m:\n\u001b[0;32m    124\u001b[0m     \u001b[38;5;28;01mdel\u001b[39;00m filtered_tb\n",
      "File \u001b[1;32mc:\\Users\\bumin\\anaconda3\\envs\\c20599\\lib\\site-packages\\tensorflow\\python\\eager\\execute.py:53\u001b[0m, in \u001b[0;36mquick_execute\u001b[1;34m(op_name, num_outputs, inputs, attrs, ctx, name)\u001b[0m\n\u001b[0;32m     51\u001b[0m \u001b[38;5;28;01mtry\u001b[39;00m:\n\u001b[0;32m     52\u001b[0m   ctx\u001b[38;5;241m.\u001b[39mensure_initialized()\n\u001b[1;32m---> 53\u001b[0m   tensors \u001b[38;5;241m=\u001b[39m pywrap_tfe\u001b[38;5;241m.\u001b[39mTFE_Py_Execute(ctx\u001b[38;5;241m.\u001b[39m_handle, device_name, op_name,\n\u001b[0;32m     54\u001b[0m                                       inputs, attrs, num_outputs)\n\u001b[0;32m     55\u001b[0m \u001b[38;5;28;01mexcept\u001b[39;00m core\u001b[38;5;241m.\u001b[39m_NotOkStatusException \u001b[38;5;28;01mas\u001b[39;00m e:\n\u001b[0;32m     56\u001b[0m   \u001b[38;5;28;01mif\u001b[39;00m name \u001b[38;5;129;01mis\u001b[39;00m \u001b[38;5;129;01mnot\u001b[39;00m \u001b[38;5;28;01mNone\u001b[39;00m:\n",
      "\u001b[1;31mInvalidArgumentError\u001b[0m: Graph execution error:\n\nDetected at node sequential_1_1/resnet50_1/conv1_bn_1/batchnorm/mul_1 defined at (most recent call last):\n  File \"c:\\Users\\bumin\\anaconda3\\envs\\c20599\\lib\\runpy.py\", line 196, in _run_module_as_main\n\n  File \"c:\\Users\\bumin\\anaconda3\\envs\\c20599\\lib\\runpy.py\", line 86, in _run_code\n\n  File \"c:\\Users\\bumin\\anaconda3\\envs\\c20599\\lib\\site-packages\\ipykernel_launcher.py\", line 17, in <module>\n\n  File \"c:\\Users\\bumin\\anaconda3\\envs\\c20599\\lib\\site-packages\\traitlets\\config\\application.py\", line 992, in launch_instance\n\n  File \"c:\\Users\\bumin\\anaconda3\\envs\\c20599\\lib\\site-packages\\ipykernel\\kernelapp.py\", line 701, in start\n\n  File \"c:\\Users\\bumin\\anaconda3\\envs\\c20599\\lib\\site-packages\\tornado\\platform\\asyncio.py\", line 195, in start\n\n  File \"c:\\Users\\bumin\\anaconda3\\envs\\c20599\\lib\\asyncio\\windows_events.py\", line 321, in run_forever\n\n  File \"c:\\Users\\bumin\\anaconda3\\envs\\c20599\\lib\\asyncio\\base_events.py\", line 603, in run_forever\n\n  File \"c:\\Users\\bumin\\anaconda3\\envs\\c20599\\lib\\asyncio\\base_events.py\", line 1909, in _run_once\n\n  File \"c:\\Users\\bumin\\anaconda3\\envs\\c20599\\lib\\asyncio\\events.py\", line 80, in _run\n\n  File \"c:\\Users\\bumin\\anaconda3\\envs\\c20599\\lib\\site-packages\\ipykernel\\kernelbase.py\", line 534, in dispatch_queue\n\n  File \"c:\\Users\\bumin\\anaconda3\\envs\\c20599\\lib\\site-packages\\ipykernel\\kernelbase.py\", line 523, in process_one\n\n  File \"c:\\Users\\bumin\\anaconda3\\envs\\c20599\\lib\\site-packages\\ipykernel\\kernelbase.py\", line 429, in dispatch_shell\n\n  File \"c:\\Users\\bumin\\anaconda3\\envs\\c20599\\lib\\site-packages\\ipykernel\\kernelbase.py\", line 767, in execute_request\n\n  File \"c:\\Users\\bumin\\anaconda3\\envs\\c20599\\lib\\site-packages\\ipykernel\\ipkernel.py\", line 429, in do_execute\n\n  File \"c:\\Users\\bumin\\anaconda3\\envs\\c20599\\lib\\site-packages\\ipykernel\\zmqshell.py\", line 549, in run_cell\n\n  File \"c:\\Users\\bumin\\anaconda3\\envs\\c20599\\lib\\site-packages\\IPython\\core\\interactiveshell.py\", line 3051, in run_cell\n\n  File \"c:\\Users\\bumin\\anaconda3\\envs\\c20599\\lib\\site-packages\\IPython\\core\\interactiveshell.py\", line 3106, in _run_cell\n\n  File \"c:\\Users\\bumin\\anaconda3\\envs\\c20599\\lib\\site-packages\\IPython\\core\\async_helpers.py\", line 129, in _pseudo_sync_runner\n\n  File \"c:\\Users\\bumin\\anaconda3\\envs\\c20599\\lib\\site-packages\\IPython\\core\\interactiveshell.py\", line 3311, in run_cell_async\n\n  File \"c:\\Users\\bumin\\anaconda3\\envs\\c20599\\lib\\site-packages\\IPython\\core\\interactiveshell.py\", line 3493, in run_ast_nodes\n\n  File \"c:\\Users\\bumin\\anaconda3\\envs\\c20599\\lib\\site-packages\\IPython\\core\\interactiveshell.py\", line 3553, in run_code\n\n  File \"C:\\Users\\bumin\\AppData\\Local\\Temp\\ipykernel_19228\\1670856602.py\", line 7, in <module>\n\n  File \"c:\\Users\\bumin\\anaconda3\\envs\\c20599\\lib\\site-packages\\keras\\src\\utils\\traceback_utils.py\", line 117, in error_handler\n\n  File \"c:\\Users\\bumin\\anaconda3\\envs\\c20599\\lib\\site-packages\\keras\\src\\backend\\tensorflow\\trainer.py\", line 368, in fit\n\n  File \"c:\\Users\\bumin\\anaconda3\\envs\\c20599\\lib\\site-packages\\keras\\src\\backend\\tensorflow\\trainer.py\", line 216, in function\n\n  File \"c:\\Users\\bumin\\anaconda3\\envs\\c20599\\lib\\site-packages\\keras\\src\\backend\\tensorflow\\trainer.py\", line 129, in multi_step_on_iterator\n\n  File \"c:\\Users\\bumin\\anaconda3\\envs\\c20599\\lib\\site-packages\\keras\\src\\backend\\tensorflow\\trainer.py\", line 110, in one_step_on_data\n\n  File \"c:\\Users\\bumin\\anaconda3\\envs\\c20599\\lib\\site-packages\\keras\\src\\backend\\tensorflow\\trainer.py\", line 56, in train_step\n\n  File \"c:\\Users\\bumin\\anaconda3\\envs\\c20599\\lib\\site-packages\\keras\\src\\utils\\traceback_utils.py\", line 117, in error_handler\n\n  File \"c:\\Users\\bumin\\anaconda3\\envs\\c20599\\lib\\site-packages\\keras\\src\\layers\\layer.py\", line 899, in __call__\n\n  File \"c:\\Users\\bumin\\anaconda3\\envs\\c20599\\lib\\site-packages\\keras\\src\\utils\\traceback_utils.py\", line 117, in error_handler\n\n  File \"c:\\Users\\bumin\\anaconda3\\envs\\c20599\\lib\\site-packages\\keras\\src\\ops\\operation.py\", line 46, in __call__\n\n  File \"c:\\Users\\bumin\\anaconda3\\envs\\c20599\\lib\\site-packages\\keras\\src\\utils\\traceback_utils.py\", line 156, in error_handler\n\n  File \"c:\\Users\\bumin\\anaconda3\\envs\\c20599\\lib\\site-packages\\keras\\src\\models\\sequential.py\", line 213, in call\n\n  File \"c:\\Users\\bumin\\anaconda3\\envs\\c20599\\lib\\site-packages\\keras\\src\\models\\functional.py\", line 182, in call\n\n  File \"c:\\Users\\bumin\\anaconda3\\envs\\c20599\\lib\\site-packages\\keras\\src\\ops\\function.py\", line 171, in _run_through_graph\n\n  File \"c:\\Users\\bumin\\anaconda3\\envs\\c20599\\lib\\site-packages\\keras\\src\\models\\functional.py\", line 632, in call\n\n  File \"c:\\Users\\bumin\\anaconda3\\envs\\c20599\\lib\\site-packages\\keras\\src\\utils\\traceback_utils.py\", line 117, in error_handler\n\n  File \"c:\\Users\\bumin\\anaconda3\\envs\\c20599\\lib\\site-packages\\keras\\src\\layers\\layer.py\", line 899, in __call__\n\n  File \"c:\\Users\\bumin\\anaconda3\\envs\\c20599\\lib\\site-packages\\keras\\src\\utils\\traceback_utils.py\", line 117, in error_handler\n\n  File \"c:\\Users\\bumin\\anaconda3\\envs\\c20599\\lib\\site-packages\\keras\\src\\ops\\operation.py\", line 46, in __call__\n\n  File \"c:\\Users\\bumin\\anaconda3\\envs\\c20599\\lib\\site-packages\\keras\\src\\utils\\traceback_utils.py\", line 156, in error_handler\n\n  File \"c:\\Users\\bumin\\anaconda3\\envs\\c20599\\lib\\site-packages\\keras\\src\\models\\functional.py\", line 182, in call\n\n  File \"c:\\Users\\bumin\\anaconda3\\envs\\c20599\\lib\\site-packages\\keras\\src\\ops\\function.py\", line 171, in _run_through_graph\n\n  File \"c:\\Users\\bumin\\anaconda3\\envs\\c20599\\lib\\site-packages\\keras\\src\\models\\functional.py\", line 632, in call\n\n  File \"c:\\Users\\bumin\\anaconda3\\envs\\c20599\\lib\\site-packages\\keras\\src\\utils\\traceback_utils.py\", line 117, in error_handler\n\n  File \"c:\\Users\\bumin\\anaconda3\\envs\\c20599\\lib\\site-packages\\keras\\src\\layers\\layer.py\", line 899, in __call__\n\n  File \"c:\\Users\\bumin\\anaconda3\\envs\\c20599\\lib\\site-packages\\keras\\src\\utils\\traceback_utils.py\", line 117, in error_handler\n\n  File \"c:\\Users\\bumin\\anaconda3\\envs\\c20599\\lib\\site-packages\\keras\\src\\ops\\operation.py\", line 46, in __call__\n\n  File \"c:\\Users\\bumin\\anaconda3\\envs\\c20599\\lib\\site-packages\\keras\\src\\utils\\traceback_utils.py\", line 156, in error_handler\n\n  File \"c:\\Users\\bumin\\anaconda3\\envs\\c20599\\lib\\site-packages\\keras\\src\\layers\\normalization\\batch_normalization.py\", line 278, in call\n\n  File \"c:\\Users\\bumin\\anaconda3\\envs\\c20599\\lib\\site-packages\\keras\\src\\ops\\nn.py\", line 2082, in batch_normalization\n\n  File \"c:\\Users\\bumin\\anaconda3\\envs\\c20599\\lib\\site-packages\\keras\\src\\backend\\tensorflow\\nn.py\", line 840, in batch_normalization\n\nIncompatible shapes: [1,1,1,64] vs. [0,224,224,3]\n\t [[{{node sequential_1_1/resnet50_1/conv1_bn_1/batchnorm/mul_1}}]] [Op:__inference_multi_step_on_iterator_14300]"
     ]
    }
   ],
   "source": [
    "from tensorflow.keras import layers, models, optimizers\n",
    "# Update the model's output layer\n",
    "model.layers[-1] = layers.Dense(num_classes, activation=\"softmax\")\n",
    "model.compile(optimizer=\"adam\", loss=\"categorical_crossentropy\", metrics=[\"accuracy\"])\n",
    "\n",
    "# Train the model\n",
    "history = model.fit(\n",
    "    train_generator,\n",
    "    validation_data=val_generator,\n",
    "    epochs=15\n",
    ")"
   ]
  },
  {
   "cell_type": "code",
   "execution_count": null,
   "metadata": {},
   "outputs": [],
   "source": [
    "print(f\"Training set classes: {len(train_data.class_indices)}\")\n",
    "print(f\"Validation set classes: {len(val_data.class_indices)}\")\n",
    "print(f\"Class indices (train): {train_data.class_indices}\")\n",
    "print(f\"Class indices (val): {val_data.class_indices}\")\n"
   ]
  },
  {
   "cell_type": "code",
   "execution_count": null,
   "metadata": {},
   "outputs": [],
   "source": [
    "# Train the model\n",
    "history = model.fit(\n",
    "    train_data,\n",
    "    epochs=15,  # Number of epochs\n",
    "    validation_data=val_data,  # Validation set\n",
    "    steps_per_epoch=train_data.samples // train_data.batch_size,  # Steps per epoch\n",
    "    validation_steps=val_data.samples // val_data.batch_size  # Validation steps\n",
    ")"
   ]
  },
  {
   "cell_type": "code",
   "execution_count": null,
   "metadata": {},
   "outputs": [],
   "source": [
    "# Evaluate the model\n",
    "test_loss, test_accuracy = model.evaluate(test_data, steps=test_data.samples // test_data.batch_size)\n",
    "print(f\"Test Accuracy: {test_accuracy:.2f}\")\n",
    "\n",
    "# Save the model\n",
    "model.save(\"garbage_classifier.h5\")\n",
    "print(\"Model saved as garbage_classifier.h5\")\n"
   ]
  },
  {
   "cell_type": "code",
   "execution_count": null,
   "metadata": {},
   "outputs": [],
   "source": [
    "import matplotlib.pyplot as plt\n",
    "\n",
    "# Plot accuracy\n",
    "plt.plot(history.history['accuracy'], label='Train Accuracy')\n",
    "plt.plot(history.history['val_accuracy'], label='Validation Accuracy')\n",
    "plt.title('Accuracy Over Epochs')\n",
    "plt.xlabel('Epochs')\n",
    "plt.ylabel('Accuracy')\n",
    "plt.legend()\n",
    "plt.show()\n",
    "\n",
    "# Plot loss\n",
    "plt.plot(history.history['loss'], label='Train Loss')\n",
    "plt.plot(history.history['val_loss'], label='Validation Loss')\n",
    "plt.title('Loss Over Epochs')\n",
    "plt.xlabel('Epochs')\n",
    "plt.ylabel('Loss')\n",
    "plt.legend()\n",
    "plt.show()\n"
   ]
  },
  {
   "cell_type": "code",
   "execution_count": null,
   "metadata": {},
   "outputs": [],
   "source": [
    "from sklearn.metrics import classification_report, confusion_matrix\n",
    "import numpy as np\n",
    "\n",
    "# Predict on the test set\n",
    "predictions = model.predict(test_data, steps=test_data.samples // test_data.batch_size)\n",
    "predicted_classes = np.argmax(predictions, axis=1)\n",
    "true_classes = test_data.classes\n",
    "class_labels = list(test_data.class_indices.keys())\n",
    "\n",
    "# Classification report\n",
    "print(\"Classification Report:\")\n",
    "print(classification_report(true_classes, predicted_classes, target_names=class_labels))\n",
    "\n",
    "# Confusion matrix\n",
    "conf_matrix = confusion_matrix(true_classes, predicted_classes)\n",
    "print(\"Confusion Matrix:\")\n",
    "print(conf_matrix)\n",
    "\n",
    "# Plot confusion matrix\n",
    "import seaborn as sns\n",
    "\n",
    "plt.figure(figsize=(10, 8))\n",
    "sns.heatmap(conf_matrix, annot=True, fmt='d', xticklabels=class_labels, yticklabels=class_labels, cmap=\"Blues\")\n",
    "plt.title(\"Confusion Matrix\")\n",
    "plt.xlabel(\"Predicted\")\n",
    "plt.ylabel(\"True\")\n",
    "plt.show()\n"
   ]
  },
  {
   "cell_type": "code",
   "execution_count": null,
   "metadata": {},
   "outputs": [],
   "source": [
    "# Unfreeze some layers of the base model\n",
    "base_model.trainable = True\n",
    "\n",
    "# Compile the model again with a lower learning rate\n",
    "model.compile(\n",
    "    optimizer=tf.keras.optimizers.Adam(learning_rate=1e-5),\n",
    "    loss=\"categorical_crossentropy\",\n",
    "    metrics=[\"accuracy\"]\n",
    ")\n",
    "\n",
    "# Fine-tune the model\n",
    "history_fine = model.fit(\n",
    "    train_data,\n",
    "    epochs=5,\n",
    "    validation_data=val_data,\n",
    "    steps_per_epoch=train_data.samples // train_data.batch_size,\n",
    "    validation_steps=val_data.samples // val_data.batch_size\n",
    ")\n"
   ]
  }
 ],
 "metadata": {
  "kernelspec": {
   "display_name": "c20599",
   "language": "python",
   "name": "python3"
  },
  "language_info": {
   "codemirror_mode": {
    "name": "ipython",
    "version": 3
   },
   "file_extension": ".py",
   "mimetype": "text/x-python",
   "name": "python",
   "nbconvert_exporter": "python",
   "pygments_lexer": "ipython3",
   "version": "3.10.13"
  }
 },
 "nbformat": 4,
 "nbformat_minor": 2
}
