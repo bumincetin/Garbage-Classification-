{
 "cells": [
  {
   "cell_type": "code",
   "execution_count": 11,
   "metadata": {},
   "outputs": [],
   "source": [
    "import os\n",
    "import subprocess\n"
   ]
  },
  {
   "cell_type": "markdown",
   "metadata": {},
   "source": [
    "# TACO Dataset Import and Preparation\n",
    "\n",
    "This notebook automates the setup process for using the TACO dataset. It includes steps to:\n",
    "1. Clone the official TACO GitHub repository.\n",
    "2. Install necessary dependencies.\n",
    "3. Download the dataset.\n",
    "4. Verify the dataset and its structure.\n",
    "\n",
    "The TACO dataset is commonly used for trash classification and object detection tasks. This notebook ensures a smooth setup process for subsequent analysis and modeling.\n"
   ]
  },
  {
   "cell_type": "markdown",
   "metadata": {},
   "source": [
    "## Step 1: Clone the TACO GitHub Repository\n",
    "\n",
    "To use the TACO dataset, the repository must first be cloned from GitHub. This step uses the `git` command to create a local copy of the repository.\n",
    "\n",
    "If `git` is not installed or accessible in the system path, the process will fail, and the user will be prompted to install Git.\n"
   ]
  },
  {
   "cell_type": "code",
   "execution_count": 12,
   "metadata": {},
   "outputs": [],
   "source": [
    "# Step 1: Clone the TACO GitHub repository\n",
    "repo_url = \"https://github.com/pedropro/TACO.git\"\n",
    "if not os.path.exists(\"TACO\"):\n",
    "    try:\n",
    "        # Use full path to Git if necessary\n",
    "        git_command = \"git\"\n",
    "        if os.name == 'nt':\n",
    "            git_command = \"C:\\Program Files\\Git\\git-bash.exe\"  # Update this path if Git is installed elsewhere on Windows\n",
    "        \n",
    "        result = subprocess.run([git_command, \"clone\", repo_url], check=True, capture_output=True, text=True)\n",
    "        print(result.stdout)\n",
    "    except FileNotFoundError:\n",
    "        print(\"Error: Git is not installed or not found in the system path. Please install Git and ensure it is accessible.\")\n",
    "    except subprocess.CalledProcessError as e:\n",
    "        print(\"Error during Git clone:\", e.stderr)"
   ]
  },
  {
   "cell_type": "markdown",
   "metadata": {},
   "source": [
    "## Step 2: Install Dependencies\n",
    "\n",
    "The repository contains a `requirements.txt` file that specifies the necessary Python dependencies. This step installs these dependencies using `pip`.\n",
    "\n",
    "If `pip` is not installed, the user will be notified and must install it to proceed.\n"
   ]
  },
  {
   "cell_type": "markdown",
   "metadata": {},
   "source": [
    "## Step 3: Install COCO API\n",
    "\n",
    "The TACO dataset relies on the COCO (Common Objects in Context) API for annotation parsing and visualization. This step installs the COCO API directly from its GitHub repository.\n"
   ]
  },
  {
   "cell_type": "code",
   "execution_count": null,
   "metadata": {},
   "outputs": [],
   "source": [
    "# Step 2: Change into the TACO directory\n",
    "if os.path.exists(\"TACO\"):\n",
    "    os.chdir(\"TACO\")\n",
    "\n",
    "# Step 3: Install dependencies\n",
    "requirements_path = \"requirements.txt\"\n",
    "if os.path.exists(requirements_path):\n",
    "    try:\n",
    "        subprocess.run([\"pip\", \"install\", \"-r\", requirements_path], check=True)\n",
    "    except FileNotFoundError:\n",
    "        print(\"Error: Pip is not installed or not found in the system path. Please install Pip and ensure it is accessible.\")"
   ]
  },
  {
   "cell_type": "markdown",
   "metadata": {},
   "source": [
    "## Step 4: Download the Dataset\n",
    "\n",
    "The dataset can be downloaded using a script provided in the TACO repository (`download.py`). This step ensures that the images and annotations are correctly retrieved and stored in a `data` directory.\n"
   ]
  },
  {
   "cell_type": "code",
   "execution_count": 14,
   "metadata": {},
   "outputs": [
    {
     "name": "stdout",
     "output_type": "stream",
     "text": [
      "Dataset downloaded successfully and is ready for use!\n"
     ]
    }
   ],
   "source": [
    "# Install COCO API for Jupyter notebook support\n",
    "subprocess.run([\"pip\", \"install\", \"git+https://github.com/philferriere/cocoapi.git#subdirectory=PythonAPI\"])\n",
    "\n",
    "# Step 4: Download the dataset images\n",
    "if not os.path.exists(\"data\"):  # Check if the data directory exists\n",
    "    subprocess.run([\"python\", \"download.py\"])\n",
    "\n",
    "# Step 5: Confirm dataset download\n",
    "if os.path.exists(\"data\"):\n",
    "    print(\"Dataset downloaded successfully and is ready for use!\")\n",
    "else:\n",
    "    print(\"Dataset download failed. Please check for errors.\")\n"
   ]
  },
  {
   "cell_type": "markdown",
   "metadata": {},
   "source": [
    "## Conclusion\n",
    "\n",
    "This notebook streamlines the process of importing and preparing the TACO dataset, saving time and ensuring consistency. If any errors occur during the setup, check the system's configuration (e.g., Git and Pip installations) or consult the TACO GitHub repository for troubleshooting.\n",
    "\n",
    "You can now proceed to data exploration, preprocessing, and modeling using the TACO dataset.\n"
   ]
  }
 ],
 "metadata": {
  "kernelspec": {
   "display_name": "c20599",
   "language": "python",
   "name": "python3"
  },
  "language_info": {
   "codemirror_mode": {
    "name": "ipython",
    "version": 3
   },
   "file_extension": ".py",
   "mimetype": "text/x-python",
   "name": "python",
   "nbconvert_exporter": "python",
   "pygments_lexer": "ipython3",
   "version": "3.10.13"
  }
 },
 "nbformat": 4,
 "nbformat_minor": 2
}
