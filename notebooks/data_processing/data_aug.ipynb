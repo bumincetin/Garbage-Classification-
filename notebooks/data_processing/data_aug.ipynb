{
 "cells": [
  {
   "cell_type": "code",
   "execution_count": 10,
   "metadata": {},
   "outputs": [],
   "source": [
    "import os\n",
    "import random\n",
    "import cv2 as cv\n",
    "import numpy as np\n",
    "from pycocotools.coco import COCO\n",
    "import logging"
   ]
  },
  {
   "cell_type": "code",
   "execution_count": 11,
   "metadata": {},
   "outputs": [],
   "source": [
    "logging.basicConfig(level=logging.INFO, format='%(asctime)s - %(levelname)s - %(message)s')\n"
   ]
  },
  {
   "cell_type": "code",
   "execution_count": 12,
   "metadata": {},
   "outputs": [],
   "source": [
    "# Set paths\n",
    "ANNOTATIONS_PATH = r\"C:\\Users\\bumin\\Downloads\\DLCV project\\TACO\\data\\annotations.json\"\n",
    "SAVE_DIR = r\"C:\\Users\\bumin\\Downloads\\DLCV project\\TACO\\data\\images\"\n",
    "AUG_SAVE_DIR = r\"C:\\Users\\bumin\\Downloads\\DLCV project\\TACO\\data\\augmented_images\"\n",
    "os.makedirs(AUG_SAVE_DIR, exist_ok=True)"
   ]
  },
  {
   "cell_type": "code",
   "execution_count": 18,
   "metadata": {},
   "outputs": [],
   "source": [
    "# Augmentation Functions\n",
    "def flip_image(image):\n",
    "    return cv.flip(image, 1)  # Horizontal flip\n",
    "\n",
    "def rotate_image(image, angle):\n",
    "    (h, w) = image.shape[:2]\n",
    "    center = (w // 2, h // 2)\n",
    "    M = cv.getRotationMatrix2D(center, angle, 1.0)\n",
    "    return cv.warpAffine(image, M, (w, h))\n",
    "\n",
    "def scale_image(image, fx=1.2, fy=1.2):\n",
    "    return cv.resize(image, None, fx=fx, fy=fy, interpolation=cv.INTER_LINEAR)\n",
    "\n",
    "def adjust_brightness_contrast(image, brightness=30, contrast=30):\n",
    "    return cv.convertScaleAbs(image, alpha=1 + contrast / 127.0, beta=brightness)"
   ]
  },
  {
   "cell_type": "code",
   "execution_count": 21,
   "metadata": {},
   "outputs": [
    {
     "name": "stderr",
     "output_type": "stream",
     "text": [
      "2024-11-24 21:09:35,752 - INFO - Total number of images available: 1495\n"
     ]
    }
   ],
   "source": [
    "all_images = [f for f in os.listdir(SAVE_DIR) if f.endswith('.jpg')]\n",
    "logging.info(f\"Total number of images available: {len(all_images)}\")"
   ]
  },
  {
   "cell_type": "code",
   "execution_count": 22,
   "metadata": {},
   "outputs": [],
   "source": [
    "# Set target number for augmentation\n",
    "max_count = len(all_images) * 2  # Set target as twice the current number of images for balancing\n"
   ]
  },
  {
   "cell_type": "code",
   "execution_count": 23,
   "metadata": {},
   "outputs": [
    {
     "data": {
      "text/plain": [
       "2990"
      ]
     },
     "execution_count": 23,
     "metadata": {},
     "output_type": "execute_result"
    }
   ],
   "source": [
    "max_count"
   ]
  },
  {
   "cell_type": "code",
   "execution_count": 24,
   "metadata": {},
   "outputs": [
    {
     "name": "stderr",
     "output_type": "stream",
     "text": [
      "2024-11-24 21:11:40,345 - INFO - Augmented 50 images so far.\n",
      "2024-11-24 21:11:59,876 - INFO - Augmented 100 images so far.\n",
      "2024-11-24 21:12:13,428 - INFO - Augmented 150 images so far.\n",
      "2024-11-24 21:12:30,118 - INFO - Augmented 200 images so far.\n",
      "2024-11-24 21:12:45,159 - INFO - Augmented 250 images so far.\n",
      "2024-11-24 21:12:59,932 - INFO - Augmented 300 images so far.\n",
      "2024-11-24 21:13:20,640 - INFO - Augmented 350 images so far.\n",
      "2024-11-24 21:13:44,340 - INFO - Augmented 400 images so far.\n",
      "2024-11-24 21:14:10,125 - INFO - Augmented 450 images so far.\n",
      "2024-11-24 21:14:35,036 - INFO - Augmented 500 images so far.\n",
      "2024-11-24 21:14:58,211 - INFO - Augmented 550 images so far.\n",
      "2024-11-24 21:15:26,776 - INFO - Augmented 600 images so far.\n",
      "2024-11-24 21:15:49,289 - INFO - Augmented 650 images so far.\n",
      "2024-11-24 21:16:10,087 - INFO - Augmented 700 images so far.\n",
      "2024-11-24 21:16:33,333 - INFO - Augmented 750 images so far.\n",
      "2024-11-24 21:16:56,997 - INFO - Augmented 800 images so far.\n",
      "2024-11-24 21:17:21,392 - INFO - Augmented 850 images so far.\n",
      "2024-11-24 21:17:42,734 - INFO - Augmented 900 images so far.\n",
      "2024-11-24 21:18:05,549 - INFO - Augmented 950 images so far.\n",
      "2024-11-24 21:18:27,601 - INFO - Augmented 1000 images so far.\n",
      "2024-11-24 21:18:51,205 - INFO - Augmented 1050 images so far.\n",
      "2024-11-24 21:19:12,535 - INFO - Augmented 1100 images so far.\n",
      "2024-11-24 21:19:33,744 - INFO - Augmented 1150 images so far.\n",
      "2024-11-24 21:19:55,299 - INFO - Augmented 1200 images so far.\n",
      "2024-11-24 21:20:19,723 - INFO - Augmented 1250 images so far.\n",
      "2024-11-24 21:20:42,355 - INFO - Augmented 1300 images so far.\n",
      "2024-11-24 21:21:05,413 - INFO - Augmented 1350 images so far.\n",
      "2024-11-24 21:21:27,179 - INFO - Augmented 1400 images so far.\n",
      "2024-11-24 21:21:49,196 - INFO - Augmented 1450 images so far.\n",
      "2024-11-24 21:22:13,223 - INFO - Data augmentation completed. Total augmented images: 1495.\n"
     ]
    }
   ],
   "source": [
    "# Augment images until reaching the target count\n",
    "augmented_count = 0\n",
    "while len(all_images) + augmented_count < max_count:\n",
    "    # Select a random image from the list\n",
    "    img_name = random.choice(all_images)\n",
    "    img_path = os.path.join(SAVE_DIR, img_name)\n",
    "\n",
    "    # Load the image\n",
    "    image = cv.imread(img_path)\n",
    "    if image is None:\n",
    "        logging.warning(f\"Image not found: {img_path}\")\n",
    "        continue\n",
    "\n",
    "    # Randomly choose an augmentation\n",
    "    augmentation_choice = random.choice(['flip', 'rotate', 'scale', 'brightness_contrast'])\n",
    "    if augmentation_choice == 'flip':\n",
    "        augmented_image = flip_image(image)\n",
    "    elif augmentation_choice == 'rotate':\n",
    "        angle = random.uniform(-30, 30)  # Rotate between -30 to 30 degrees\n",
    "        augmented_image = rotate_image(image, angle)\n",
    "    elif augmentation_choice == 'scale':\n",
    "        augmented_image = scale_image(image, fx=random.uniform(1.1, 1.3), fy=random.uniform(1.1, 1.3))\n",
    "    elif augmentation_choice == 'brightness_contrast':\n",
    "        brightness = random.randint(-30, 30)\n",
    "        contrast = random.randint(-30, 30)\n",
    "        augmented_image = adjust_brightness_contrast(image, brightness=brightness, contrast=contrast)\n",
    "\n",
    "    # Generate a new filename and save the augmented image\n",
    "    new_img_id = f\"{os.path.splitext(img_name)[0]}_aug_{random.randint(1000, 9999)}\"\n",
    "    aug_img_path = os.path.join(AUG_SAVE_DIR, f\"{new_img_id}.jpg\")\n",
    "    cv.imwrite(aug_img_path, augmented_image)\n",
    "    augmented_count += 1\n",
    "\n",
    "    # Log every 50 images processed\n",
    "    if augmented_count % 50 == 0:\n",
    "        logging.info(f\"Augmented {augmented_count} images so far.\")\n",
    "\n",
    "logging.info(f\"Data augmentation completed. Total augmented images: {augmented_count}.\")"
   ]
  },
  {
   "cell_type": "code",
   "execution_count": null,
   "metadata": {},
   "outputs": [],
   "source": []
  }
 ],
 "metadata": {
  "kernelspec": {
   "display_name": "c20599",
   "language": "python",
   "name": "python3"
  },
  "language_info": {
   "codemirror_mode": {
    "name": "ipython",
    "version": 3
   },
   "file_extension": ".py",
   "mimetype": "text/x-python",
   "name": "python",
   "nbconvert_exporter": "python",
   "pygments_lexer": "ipython3",
   "version": "3.10.13"
  }
 },
 "nbformat": 4,
 "nbformat_minor": 2
}
